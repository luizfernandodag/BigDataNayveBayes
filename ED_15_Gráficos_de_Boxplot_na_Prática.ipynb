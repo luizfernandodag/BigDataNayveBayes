{
  "nbformat": 4,
  "nbformat_minor": 5,
  "metadata": {
    "kernelspec": {
      "display_name": "Python 3",
      "language": "python",
      "name": "python3"
    },
    "language_info": {
      "codemirror_mode": {
        "name": "ipython",
        "version": 3
      },
      "file_extension": ".py",
      "mimetype": "text/x-python",
      "name": "python",
      "nbconvert_exporter": "python",
      "pygments_lexer": "ipython3",
      "version": "3.8.10"
    },
    "colab": {
      "name": "ED 15 - Gráficos de Boxplot na Prática.ipynb",
      "provenance": [],
      "include_colab_link": true
    }
  },
  "cells": [
    {
      "cell_type": "markdown",
      "metadata": {
        "id": "view-in-github",
        "colab_type": "text"
      },
      "source": [
        "<a href=\"https://colab.research.google.com/github/luizfernandodag/BigDataNayveBayes/blob/master/ED_15_Gr%C3%A1ficos_de_Boxplot_na_Pr%C3%A1tica.ipynb\" target=\"_parent\"><img src=\"https://colab.research.google.com/assets/colab-badge.svg\" alt=\"Open In Colab\"/></a>"
      ]
    },
    {
      "cell_type": "markdown",
      "metadata": {
        "id": "f8512c79-13ce-4eb9-9f50-73be4ef15b26"
      },
      "source": [
        "# 7 GRÁFICO BOX-PLOT"
      ],
      "id": "f8512c79-13ce-4eb9-9f50-73be4ef15b26"
    },
    {
      "cell_type": "code",
      "source": [
        "import pandas as pd\n",
        "import numpy as np\n",
        "import matplotlib.pyplot as plt\n",
        "import seaborn as sns\n",
        "import scipy.stats as stats\n",
        "#%matplotlib widget"
      ],
      "metadata": {
        "id": "d5xZOO0PDs9f"
      },
      "id": "d5xZOO0PDs9f",
      "execution_count": 1,
      "outputs": []
    },
    {
      "cell_type": "code",
      "source": [
        "s1 = pd.Series([7, 7, 6, 2,\t5, 4, 3, 7,\t3, 1, 2, 4, 8, 6, 3, 7, 9, 6, 1, 3])\n",
        "pd.DataFrame.head(s1)\n",
        "\n",
        "s2 = pd.Series([3, 3, 5, 12, 3, 4, 10, 5, 4, 4, 3, 4, 8, 4, 5, 5, 6, 6, 4, 7])\n",
        "pd.DataFrame.head(s2)\n",
        "\n",
        "s3 = pd.Series([7, 7, 7, 8, 8, 7, 7, 7, 4, 8, 7, 8, 8, 9, 8, 8, 7, 9, 8, 8])\n",
        "pd.DataFrame.head(s3)"
      ],
      "metadata": {
        "id": "jtwGhGTcDs-1",
        "outputId": "5c14c6ad-2a2c-4ebc-9018-71d24c1d846c",
        "colab": {
          "base_uri": "https://localhost:8080/"
        }
      },
      "id": "jtwGhGTcDs-1",
      "execution_count": 2,
      "outputs": [
        {
          "output_type": "execute_result",
          "data": {
            "text/plain": [
              "0    7\n",
              "1    7\n",
              "2    7\n",
              "3    8\n",
              "4    8\n",
              "dtype: int64"
            ]
          },
          "metadata": {},
          "execution_count": 2
        }
      ]
    },
    {
      "cell_type": "code",
      "source": [
        "fig = plt.figure()\n",
        "\n",
        "\n",
        "# Plota o histograma\n",
        "plt.hist(s1, bins = 3)\n",
        "\n",
        "# Coloca título nos eixos\n",
        "plt.title(\"Distribuição da variável S1\", loc = 'left')\n",
        "\n",
        "# Coloca nome nos eixos\n",
        "plt.xlabel('s1')\n",
        "plt.ylabel('Frequência')"
      ],
      "metadata": {
        "id": "6_ZVS91-D3k2",
        "outputId": "9c197ece-f22a-4279-934d-29545f9dbc60",
        "colab": {
          "base_uri": "https://localhost:8080/",
          "height": 313
        }
      },
      "id": "6_ZVS91-D3k2",
      "execution_count": 3,
      "outputs": [
        {
          "output_type": "execute_result",
          "data": {
            "text/plain": [
              "Text(0, 0.5, 'Frequência')"
            ]
          },
          "metadata": {},
          "execution_count": 3
        },
        {
          "output_type": "display_data",
          "data": {
            "text/plain": [
              "<Figure size 432x288 with 1 Axes>"
            ],
            "image/png": "[encoded data removed]"
          },
          "metadata": {
            "needs_background": "light"
          }
        }
      ]
    },
    {
      "cell_type": "code",
      "source": [
        "# Cria a figura e os subplots\n",
        "fig = plt.figure()\n",
        "plt.subplots_adjust(hspace = 0.3, wspace = 0.4)\n",
        "fig.suptitle('Comparação de distribuições', x=0.1, y=.95, horizontalalignment = 'left', verticalalignment = 'top')\n",
        "ax1 = fig.add_subplot(2, 2, 1)\n",
        "ax2 = fig.add_subplot(2, 2, 2)\n",
        "ax3 = fig.add_subplot(2, 2, 3)\n",
        "\n",
        "# Cria os gráficos de histograma e acerta os nomes dos eixos\n",
        "ax1.hist(s1, bins = 5)\n",
        "ax1.set_xlabel('s1')\n",
        "ax1.set_ylabel('Frequência')\n",
        "\n",
        "ax2.hist(s2, bins = 5)\n",
        "ax2.set_xlabel('s2')\n",
        "ax2.set_ylabel('Frequência')\n",
        "\n",
        "ax3.hist(s3, bins = 5)\n",
        "ax3.set_xlabel('s3')\n",
        "ax3.set_ylabel('Frequência')"
      ],
      "metadata": {
        "id": "Mpf_mUdnD8oV",
        "outputId": "f03eb8d2-3755-451b-967a-1e9b1271fb90",
        "colab": {
          "base_uri": "https://localhost:8080/",
          "height": 318
        }
      },
      "id": "Mpf_mUdnD8oV",
      "execution_count": 4,
      "outputs": [
        {
          "output_type": "execute_result",
          "data": {
            "text/plain": [
              "Text(0, 0.5, 'Frequência')"
            ]
          },
          "metadata": {},
          "execution_count": 4
        },
        {
          "output_type": "display_data",
          "data": {
            "text/plain": [
              "<Figure size 432x288 with 3 Axes>"
            ],
            "image/png": "[encoded data removed]"
          },
          "metadata": {
            "needs_background": "light"
          }
        }
      ]
    },
    {
      "cell_type": "code",
      "source": [
        "fig = plt.figure()\n",
        "plt.hist(s1, alpha = 0.5, label = 's1')\n",
        "plt.hist(s2, alpha = 0.5, label = 's1')\n",
        "plt.hist(s3, alpha = 0.5, label = 's1')\n",
        "# Código alternativo\n",
        "# plt.hist([s1, s2, s3], bins, label=['s1', 's2', 's3'])\n",
        "\n",
        "plt.legend(loc = 'upper right')\n",
        "plt.ylabel('Frequência')\n",
        "plt.title('Comparação entre variáveis', loc = 'left')"
      ],
      "metadata": {
        "id": "9UZ-OpxGEBPG",
        "outputId": "08ce5598-3bb3-40f2-cd0c-5b9c79bebc8b",
        "colab": {
          "base_uri": "https://localhost:8080/",
          "height": 299
        }
      },
      "id": "9UZ-OpxGEBPG",
      "execution_count": 5,
      "outputs": [
        {
          "output_type": "execute_result",
          "data": {
            "text/plain": [
              "Text(0.0, 1.0, 'Comparação entre variáveis')"
            ]
          },
          "metadata": {},
          "execution_count": 5
        },
        {
          "output_type": "display_data",
          "data": {
            "text/plain": [
              "<Figure size 432x288 with 1 Axes>"
            ],
            "image/png": "[encoded data removed]"
          },
          "metadata": {
            "needs_background": "light"
          }
        }
      ]
    },
    {
      "cell_type": "code",
      "source": [
        ""
      ],
      "metadata": {
        "id": "BCNiBgGUD8q2"
      },
      "id": "BCNiBgGUD8q2",
      "execution_count": null,
      "outputs": []
    },
    {
      "cell_type": "markdown",
      "metadata": {
        "id": "aff7fa50-ad2a-4420-ac19-04eba918abb4"
      },
      "source": [
        "## 7.1 Gráfico único"
      ],
      "id": "aff7fa50-ad2a-4420-ac19-04eba918abb4"
    },
    {
      "cell_type": "code",
      "metadata": {
        "id": "344c3492-9a5a-495e-8f64-6f0842c54940",
        "outputId": "7a80529b-498d-4e12-8fe5-61ed2a7f104c",
        "colab": {
          "base_uri": "https://localhost:8080/",
          "height": 165
        }
      },
      "source": [
        "plt.close('all')"
      ],
      "id": "344c3492-9a5a-495e-8f64-6f0842c54940",
      "execution_count": null,
      "outputs": [
        {
          "output_type": "error",
          "ename": "NameError",
          "evalue": "ignored",
          "traceback": [
            "\u001b[0;31m---------------------------------------------------------------------------\u001b[0m",
            "\u001b[0;31mNameError\u001b[0m                                 Traceback (most recent call last)",
            "\u001b[0;32m<ipython-input-1-19331ffd4e3d>\u001b[0m in \u001b[0;36m<module>\u001b[0;34m()\u001b[0m\n\u001b[0;32m----> 1\u001b[0;31m \u001b[0mplt\u001b[0m\u001b[0;34m.\u001b[0m\u001b[0mclose\u001b[0m\u001b[0;34m(\u001b[0m\u001b[0;34m'all'\u001b[0m\u001b[0;34m)\u001b[0m\u001b[0;34m\u001b[0m\u001b[0;34m\u001b[0m\u001b[0m\n\u001b[0m",
            "\u001b[0;31mNameError\u001b[0m: name 'plt' is not defined"
          ]
        }
      ]
    },
    {
      "cell_type": "code",
      "metadata": {
        "id": "5ed802b9-6e86-46a7-a4f5-b055e0648b57",
        "colab": {
          "referenced_widgets": [
            "272f8d105f3748a2a0dac9a6fa81010e"
          ]
        },
        "outputId": "e67fa734-897b-4d72-fa8e-b0cbb1c24b53"
      },
      "source": [
        "fig = plt.figure()\n",
        "plt.boxplot(s2, showmeans = True)\n",
        "plt.ylabel('Valores')\n",
        "\n",
        "# Remove o valor do eixo x\n",
        "plt.xticks([1], [''])\n",
        "\n",
        "# Remove o tick do eixo x\n",
        "plt.tick_params(axis = \"x\", which = \"both\", bottom = False, top = False)\n",
        "\n",
        "plt.title('Gráfico Box-Plot da Variável s2', loc = 'left')"
      ],
      "id": "5ed802b9-6e86-46a7-a4f5-b055e0648b57",
      "execution_count": null,
      "outputs": [
        {
          "output_type": "display_data",
          "data": {
            "application/vnd.jupyter.widget-view+json": {
              "model_id": "272f8d105f3748a2a0dac9a6fa81010e",
              "version_major": 2,
              "version_minor": 0
            },
            "text/plain": [
              "Canvas(toolbar=Toolbar(toolitems=[('Home', 'Reset original view', 'home', 'home'), ('Back', 'Back to previous …"
            ]
          },
          "metadata": {
            "tags": []
          }
        },
        {
          "output_type": "execute_result",
          "data": {
            "text/plain": [
              "Text(0.0, 1.0, 'Gráfico Box-Plot da Variável s2')"
            ]
          },
          "metadata": {
            "tags": []
          },
          "execution_count": 55
        }
      ]
    },
    {
      "cell_type": "markdown",
      "metadata": {
        "id": "e0b9fb47-96a3-4062-9957-8b793337230e"
      },
      "source": [
        "## 7.2 Múltiplas variáveis em um gráfico"
      ],
      "id": "e0b9fb47-96a3-4062-9957-8b793337230e"
    },
    {
      "cell_type": "code",
      "metadata": {
        "id": "b468936e-4b3f-49f3-a0e8-7bb1478a31d9",
        "colab": {
          "referenced_widgets": [
            "5b92ace5231948d199fda37e7b770de5"
          ]
        },
        "outputId": "5f2b60ca-a10e-46a7-a147-a957d811148d"
      },
      "source": [
        "fig = plt.figure()\n",
        "plt.boxplot([s1, s2, s3], showmeans = True)\n",
        "plt.xticks([1, 2, 3], ['s1', 's2', 's3'])\n",
        "plt.ylabel('Valores')\n",
        "plt.title('Gráfico Box-plot', loc = 'left')"
      ],
      "id": "b468936e-4b3f-49f3-a0e8-7bb1478a31d9",
      "execution_count": null,
      "outputs": [
        {
          "output_type": "display_data",
          "data": {
            "application/vnd.jupyter.widget-view+json": {
              "model_id": "5b92ace5231948d199fda37e7b770de5",
              "version_major": 2,
              "version_minor": 0
            },
            "text/plain": [
              "Canvas(toolbar=Toolbar(toolitems=[('Home', 'Reset original view', 'home', 'home'), ('Back', 'Back to previous …"
            ]
          },
          "metadata": {
            "tags": []
          }
        },
        {
          "output_type": "execute_result",
          "data": {
            "text/plain": [
              "Text(0.0, 1.0, 'Gráfico Box-plot')"
            ]
          },
          "metadata": {
            "tags": []
          },
          "execution_count": 56
        }
      ]
    }
  ]
}